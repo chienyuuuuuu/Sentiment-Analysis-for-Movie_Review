{
 "cells": [
  {
   "cell_type": "code",
   "execution_count": 1,
   "metadata": {},
   "outputs": [],
   "source": [
    "import data_providers as data_providers\n",
    "train_data = data_providers.SentimentDataProvider('train',batch_size = 100)"
   ]
  },
  {
   "cell_type": "code",
   "execution_count": 2,
   "metadata": {},
   "outputs": [
    {
     "name": "stdout",
     "output_type": "stream",
     "text": [
      "(50000, 200)\n",
      "(50000, 2)\n"
     ]
    }
   ],
   "source": [
    "datainputs = train_data.inputs\n",
    "datatargets = train_data.targets\n",
    "print(datainputs.shape)\n",
    "print(datatargets.shape)"
   ]
  },
  {
   "cell_type": "code",
   "execution_count": 3,
   "metadata": {},
   "outputs": [],
   "source": [
    "import numpy as np\n",
    "m = 'D:\\\\Edinburgh\\\\MLP\\\\moviereview\\\\oovec.txt' \n",
    "emm = np.loadtxt(m)\n"
   ]
  },
  {
   "cell_type": "code",
   "execution_count": 4,
   "metadata": {},
   "outputs": [
    {
     "data": {
      "text/plain": [
       "array([[ 0.00000000e+00,  0.00000000e+00,  0.00000000e+00, ...,\n",
       "         0.00000000e+00,  0.00000000e+00,  0.00000000e+00],\n",
       "       [-1.65687251e+00, -2.13421679e+00, -1.14120746e+00, ...,\n",
       "        -3.89805943e-01, -1.38813094e-03, -8.80363226e-01],\n",
       "       [ 1.33517051e+00, -1.46170712e+00, -8.79757106e-01, ...,\n",
       "        -8.08012128e-01, -2.68112159e+00,  2.02673030e+00],\n",
       "       ...,\n",
       "       [ 2.50109099e-03,  9.85768810e-03, -2.24172766e-03, ...,\n",
       "         3.60512431e-03, -4.97169280e-03, -1.99030992e-03],\n",
       "       [ 3.36064324e-02,  4.04373510e-03,  2.27453262e-02, ...,\n",
       "         7.73886102e-04,  1.89416725e-02,  6.78377366e-03],\n",
       "       [-3.02166976e-02,  4.89643449e-03,  1.11722723e-02, ...,\n",
       "         1.26498742e-02,  1.30310515e-02, -1.21284444e-02]])"
      ]
     },
     "execution_count": 4,
     "metadata": {},
     "output_type": "execute_result"
    }
   ],
   "source": [
    "emm"
   ]
  },
  {
   "cell_type": "code",
   "execution_count": 5,
   "metadata": {},
   "outputs": [
    {
     "name": "stdout",
     "output_type": "stream",
     "text": [
      "(41146, 100)\n"
     ]
    }
   ],
   "source": [
    "print(emm.shape)"
   ]
  },
  {
   "cell_type": "code",
   "execution_count": 6,
   "metadata": {},
   "outputs": [],
   "source": [
    "import time"
   ]
  },
  {
   "cell_type": "code",
   "execution_count": null,
   "metadata": {},
   "outputs": [
    {
     "name": "stdout",
     "output_type": "stream",
     "text": [
      "(100, 200)\n",
      "(100, 2)\n",
      "WARNING:tensorflow:From <ipython-input-7-b44a83840a0b>:37: calling reduce_sum (from tensorflow.python.ops.math_ops) with keep_dims is deprecated and will be removed in a future version.\n",
      "Instructions for updating:\n",
      "keep_dims is deprecated, use keepdims instead\n",
      "WARNING:tensorflow:From <ipython-input-7-b44a83840a0b>:37: calling softmax (from tensorflow.python.ops.nn_ops) with dim is deprecated and will be removed in a future version.\n",
      "Instructions for updating:\n",
      "dim is deprecated, use axis instead\n"
     ]
    }
   ],
   "source": [
    "import tensorflow as tf\n",
    "import sys\n",
    "from tensorflow.contrib import rnn\n",
    "sys.path.append(\"..\")\n",
    "tf.reset_default_graph() \n",
    "# Network Parameters\n",
    "num_input = 100 # data input dimension\n",
    "timesteps = 200 # timesteps\n",
    "num_hidden = 100 # hidden layer num of features\n",
    "num_classes = 2 \n",
    "layer_num = 2\n",
    "batch_size = 100\n",
    "# tf Graph input\n",
    "with tf.name_scope('data'):\n",
    "    X = tf.placeholder(tf.int32, [batch_size, timesteps],'inputs')\n",
    "    Y = tf.placeholder(tf.float32, [batch_size, num_classes],'targets')\n",
    "    print(X.shape)\n",
    "    print(Y.shape)\n",
    "    #embedding\n",
    "    embedding = tf.placeholder(tf.float32,[41146,100])\n",
    "    inputs = tf.nn.embedding_lookup(embedding,X)\n",
    "    keep_prob = tf.placeholder(tf.float32)\n",
    "\n",
    "#lstm _ dropout\n",
    "lstm_cell = tf.nn.rnn_cell.LSTMCell(num_hidden,state_is_tuple=True)\n",
    "lstm_cell = tf.nn.rnn_cell.MultiRNNCell([lstm_cell]*3,  state_is_tuple=True)  \n",
    "lstm_cell = rnn.DropoutWrapper(cell=lstm_cell, input_keep_prob=0.8, output_keep_prob=0.8)\n",
    "lstm_cell_bw = tf.nn.rnn_cell.LSTMCell(num_hidden,state_is_tuple=True)\n",
    "lstm_cell_bw = tf.nn.rnn_cell.MultiRNNCell([lstm_cell_bw]*3,  state_is_tuple=True)\n",
    "lstm_cell_bw = rnn.DropoutWrapper(cell=lstm_cell, input_keep_prob=0.8, output_keep_prob=0.8)\n",
    "#out_put, state = tf.nn.dynamic_rnn(lstm_cell, inputs , dtype=tf.float32)\n",
    "(out_put, out_put_bw), state = tf.nn.bidirectional_dynamic_rnn(lstm_cell, lstm_cell_bw, inputs,  dtype=tf.float32)\n",
    "\n",
    "outputs = tf.concat((out_put, out_put_bw), 2)\n",
    "u_context = tf.Variable(tf.truncated_normal([num_hidden * 2]), name='u_context')\n",
    "h = tf.layers.dense(outputs, num_hidden * 2, activation=tf.nn.tanh)\n",
    "alpha = tf.nn.softmax(tf.reduce_sum(tf.multiply(h, u_context), axis=2, keep_dims=True), dim=1)\n",
    "last = tf.reduce_sum(tf.multiply(outputs, alpha), axis=1)\n",
    "scale = tf.Variable(tf.ones([200]))\n",
    "offset = tf.Variable(tf.zeros([200]))\n",
    "variance_epsilon = 0.001\n",
    "wb_mean, wb_var = tf.nn.moments(last,[0,1])\n",
    "last= tf.nn.batch_normalization(last, wb_mean, wb_var,offset, scale, variance_epsilon)\n",
    "\n",
    "#out_put = tf.transpose(out_put, [1, 0, 2])\n",
    "#last = tf.gather(out_put , int(out_put .get_shape()[0]) - 1)\n",
    "\n",
    "#out_put_bw = tf.transpose(out_put_bw, [1, 0, 2])\n",
    "#last_bw = tf.gather(out_put_bw , int(out_put_bw .get_shape()[0]) - 1)\n",
    "\n",
    "#W = tf.Variable(tf.zeros([num_hidden, num_classes]))\n",
    "#W = tf.Variable(tf.zeros([2 * num_hidden, num_hidden]))\n",
    "#bias = tf.Variable(tf.zeros([num_hidden]))\n",
    "lr = 1e-4\n",
    "#last = tf.concat([last,last_bw],1)\n",
    "dense_pre_last = tf.layers.dense(last, 2*num_hidden, activation = tf.nn.selu)\n",
    "y_pre = tf.layers.dense(dense_pre_last, 2, activation = tf.nn.softmax)\n",
    "\n",
    "cost = - tf.reduce_mean(Y * tf.log(tf.clip_by_value(y_pre,1e-10,1.0)))\n",
    "train_op = tf.train.AdamOptimizer(lr).minimize(cost)\n",
    "correct_prediction  = tf.equal(tf.argmax(y_pre,1), tf.argmax(Y,1))\n",
    "accuracy = tf.reduce_mean(tf.cast(correct_prediction, tf.float32))\n",
    "\n",
    "#tensorboard\n",
    "#tf.summary.scalar('acc',accuracy)\n",
    "#tf.summary.scalar('loss',cost)"
   ]
  },
  {
   "cell_type": "code",
   "execution_count": null,
   "metadata": {},
   "outputs": [
    {
     "name": "stdout",
     "output_type": "stream",
     "text": [
      "step 1, training accuracy 0.89105, training error 0.104049\n",
      "step 1, val accuracy 0.9132, val error 0.0830295\n",
      "step 1, time 1701.18,\n",
      "step 2, training accuracy 0.9121, training error 0.0843359\n",
      "step 2, val accuracy 0.9208, val error 0.0754082\n",
      "step 2, time 1854.28,\n",
      "step 3, training accuracy 0.922225, training error 0.0780761\n",
      "step 3, val accuracy 0.9302, val error 0.0706321\n",
      "step 3, time 1857.99,\n",
      "step 4, training accuracy 0.92745, training error 0.0742628\n",
      "step 4, val accuracy 0.9296, val error 0.0700153\n",
      "step 4, time 1765.4,\n",
      "step 5, training accuracy 0.931375, training error 0.0707145\n",
      "step 5, val accuracy 0.934, val error 0.06897\n",
      "step 5, time 1685.21,\n",
      "step 6, training accuracy 0.9333, training error 0.0687237\n"
     ]
    }
   ],
   "source": [
    "import numpy as np\n",
    "c = emm # word embedding accay, read from the pre-data\n",
    "acclist = []\n",
    "errorlist =  []\n",
    "acclist1 = []\n",
    "errorlist1 =  []\n",
    "sess = tf.InteractiveSession()\n",
    "init_op = tf.global_variables_initializer()\n",
    "sess.run(init_op)\n",
    "merged = tf.summary.merge_all()\n",
    "writer = tf.summary.FileWriter(\"logs/\", sess.graph)\n",
    "sess.run(init_op)\n",
    "batch_size = 100\n",
    "#no_of_batches = int(len(datainputs)/batch_size)\n",
    "epoch = 50\n",
    "for i in range(epoch):\n",
    "    ptr = 0\n",
    "    runacc = 0\n",
    "    runerror = 0\n",
    "    m = 0\n",
    "    n = 0\n",
    "    start_time = time.time()\n",
    "    for j in range(400):\n",
    "        inp, out = datainputs[ptr:ptr+batch_size], datatargets[ptr:ptr+batch_size]\n",
    "#         print(inp.shape)\n",
    "        ptr+=batch_size\n",
    "        _, error, correct = sess.run( [train_op , cost, accuracy],feed_dict = { X: inp, Y: out, keep_prob: 1.0, embedding: c})\n",
    "        runacc += correct\n",
    "        runerror += error\n",
    "    #result = sess.run(merged, feed_dict = { X: inp, Y: out, keep_prob: 1.0, embedding: c}\n",
    "    #writer.add_summary(result,i)\n",
    "    m = runacc / 400\n",
    "    n = runerror / 400\n",
    "    acclist.append(m)\n",
    "    errorlist.append(n)\n",
    "    print (\"step %d, training accuracy %g, training error %g\" %  ( (i+1), m, n))\n",
    "    ptr1 = 45000\n",
    "    runacc1 = 0\n",
    "    runerror1 = 0\n",
    "    m1 = 0\n",
    "    n1 = 0\n",
    "    for k in range(50):\n",
    "        inp, out = datainputs[ptr1:ptr1+batch_size], datatargets[ptr1:ptr1+batch_size]\n",
    "        ptr1+=batch_size\n",
    "        error1, correct1 = sess.run( [cost, accuracy],feed_dict = { X: inp, Y: out, keep_prob: 1.0, embedding: c})\n",
    "        runacc1 += correct1\n",
    "        runerror1 += error1\n",
    "    m1 = runacc1 / 50\n",
    "    n1 = runerror1 / 50\n",
    "    print (\"step %d, val accuracy %g, val error %g\" %  ( (i+1), m1, n1))\n",
    "    acclist1.append(m1)\n",
    "    errorlist1.append(n1)\n",
    "    end_time = time.time()\n",
    "    htime = end_time - start_time\n",
    "    print(\"step %d, time %g,\" %  ( (i+1), htime))\n",
    "sess.close()\n",
    "\n"
   ]
  },
  {
   "cell_type": "code",
   "execution_count": null,
   "metadata": {
    "collapsed": true
   },
   "outputs": [],
   "source": [
    "acc = np.array(acclist, dtype = 'float32')\n",
    "acc1 = np.array(acclist1, dtype = 'float32')\n",
    "error = np.array(errorlist, dtype = 'float32')\n",
    "error1 = np.array(errorlist1, dtype = 'float32')"
   ]
  },
  {
   "cell_type": "code",
   "execution_count": 184,
   "metadata": {
    "collapsed": true
   },
   "outputs": [],
   "source": [
    "macc = 'D:\\\\Edinburgh\\\\MLP\\\\moviereview\\\\train_data\\\\40000c_200s_100d_drop0.8_bidiselu_attention_batch_acc.txt'\n",
    "macc1 = 'D:\\\\Edinburgh\\\\MLP\\\\moviereview\\\\train_data\\\\40000c_200s_100d_drop0.8_bidiselu_attention_batch_acc1.txt' \n",
    "merror = 'D:\\\\Edinburgh\\\\MLP\\\\moviereview\\\\train_data\\\\40000c_200s_100d_drop0.8_bidiselu_attention_batch_error.txt' \n",
    "merror1 = 'D:\\\\Edinburgh\\\\MLP\\\\moviereview\\\\train_data\\\\40000c_200s_100d_drop0.8_bidiselu_attention_batch_error1.txt' \n",
    "np.savetxt(macc,acc)\n",
    "np.savetxt(macc1,acc1)\n",
    "np.savetxt(merror,error)\n",
    "np.savetxt(merror1,error1)\n",
    "\n",
    "# macc = 'D:\\\\Edinburgh\\\\MLP\\\\moviereview\\\\train_data\\\\40000c_200s_100d_nodrop_base_acc.txt'\n",
    "# macc = 'D:\\\\Edinburgh\\\\MLP\\\\moviereview\\\\train_data\\\\40000c_200s_100d_drop0.9_base_acc.txt'\n",
    "# macc = 'D:\\\\Edinburgh\\\\MLP\\\\moviereview\\\\train_data\\\\40000c_200s_100d_drop0.8_base_acc.txt'\n",
    "# macc = 'D:\\\\Edinburgh\\\\MLP\\\\moviereview\\\\train_data\\\\40000c_200s_100d_drop0.6_base_acc.txt'\n",
    "# macc = 'D:\\\\Edinburgh\\\\MLP\\\\moviereview\\\\train_data\\\\40000c_200s_100d_drop0.8_bidi_acc.txt'\n",
    "# macc = 'D:\\\\Edinburgh\\\\MLP\\\\moviereview\\\\train_data\\\\40000c_200s_100d_drop0.8_bidiselu_acc1.txt'\n",
    "# macc = 'D:\\\\Edinburgh\\\\MLP\\\\moviereview\\\\train_data\\\\40000c_200s_100d_drop0.8_bidiselu_2layers_acc1.txt'\n",
    "# macc = 'D:\\\\Edinburgh\\\\MLP\\\\moviereview\\\\train_data\\\\40000c_200s_100d_drop0.8_bidiselu_3layer_acc1.txt'\n",
    "# macc = 'D:\\\\Edinburgh\\\\MLP\\\\moviereview\\\\train_data\\\\40000c_200s_100d_drop0.8_bidiselu_attention_acc1.txt'"
   ]
  },
  {
   "cell_type": "code",
   "execution_count": 246,
   "metadata": {
    "collapsed": true
   },
   "outputs": [],
   "source": [
    "acc = np.loadtxt('D:\\\\Edinburgh\\\\MLP\\\\moviereview\\\\train_data\\\\40000c_200s_100d_drop0.8_bidiselu_attention_batch_acc.txt')\n",
    "acc1 = np.loadtxt('D:\\\\Edinburgh\\\\MLP\\\\moviereview\\\\train_data\\\\40000c_200s_100d_drop0.8_bidiselu_attention_batch_acc1.txt')\n",
    "acc2 = np.loadtxt('D:\\\\Edinburgh\\\\MLP\\\\moviereview\\\\train_data\\\\40000c_200s_100d_drop0.8_bidiselu_acc1.txt')\n",
    "acc3 = np.loadtxt('D:\\\\Edinburgh\\\\MLP\\\\moviereview\\\\train_data\\\\40000c_200s_100d_drop0.9_base_error1.txt')\n",
    "error = np.loadtxt('D:\\\\Edinburgh\\\\MLP\\\\moviereview\\\\train_data\\\\train_data/40000c_200s_100d_nodrop_base_error.txt')\n",
    "error1 = np.loadtxt('D:\\\\Edinburgh\\\\MLP\\\\moviereview\\\\train_data\\\\40000c_200s_100d_nodrop_base_error1.txt')\n"
   ]
  },
  {
   "cell_type": "code",
   "execution_count": 247,
   "metadata": {},
   "outputs": [
    {
     "data": {
      "image/png": "[encoded data removed]",
      "text/plain": [
       "<matplotlib.figure.Figure at 0x183c42e0b8>"
      ]
     },
     "metadata": {},
     "output_type": "display_data"
    }
   ],
   "source": [
    "acc = np.array(acc, dtype = 'float32')\n",
    "acc1 = np.array(acc1, dtype = 'float32')\n",
    "acc2 = np.array(acc2, dtype = 'float32')\n",
    "acc3 = np.array(acc3, dtype = 'float32')\n",
    "trainerror = np.array(error, dtype = 'float32')\n",
    "valerror = np.array(error1, dtype = 'float32')\n",
    "import matplotlib.pyplot as plt \n",
    "x1=range(0,50) \n",
    "x2=range(0,50)\n",
    "x3=range(0,50) \n",
    "x4=range(0,50)\n",
    "plt.plot(x1,acc,label='batch-train',color='r') \n",
    "plt.plot(x2,acc1,label='batch-val',color = 'g') \n",
    "#plt.plot(x3,acc2,label='bi-dir-selu',color='y') \n",
    "#plt.plot(x4,acc3,label='0.6-drop') \n",
    "plt.xlabel('epoch') \n",
    "plt.ylabel('accuracy') \n",
    "plt.title('accuracy') \n",
    "plt.savefig(\"accuracy.pdf\")  \n",
    "plt.legend() \n",
    "plt.show()"
   ]
  }
 ],
 "metadata": {
  "kernelspec": {
   "display_name": "Python 3",
   "language": "python",
   "name": "python3"
  },
  "language_info": {
   "codemirror_mode": {
    "name": "ipython",
    "version": 3
   },
   "file_extension": ".py",
   "mimetype": "text/x-python",
   "name": "python",
   "nbconvert_exporter": "python",
   "pygments_lexer": "ipython3",
   "version": "3.6.4"
  }
 },
 "nbformat": 4,
 "nbformat_minor": 2
}
